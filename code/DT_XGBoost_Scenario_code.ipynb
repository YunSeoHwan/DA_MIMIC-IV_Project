{
 "cells": [
  {
   "cell_type": "code",
   "execution_count": 1,
   "id": "28451c36-4a2e-42e6-baa5-f85d615f1e98",
   "metadata": {},
   "outputs": [],
   "source": [
    "import numpy as np\n",
    "import pandas as pd\n",
    "import seaborn as sns\n",
    "import matplotlib.pyplot as plt\n",
    "from sklearn.model_selection import train_test_split\n",
    "from sklearn.tree import export_graphviz\n",
    "from sklearn.metrics import accuracy_score\n",
    "from sklearn.metrics import confusion_matrix, accuracy_score, precision_score, recall_score, f1_score, roc_auc_score\n",
    "import graphviz\n",
    "import gc\n",
    "import itertools\n",
    "import matplotlib.pyplot as plt\n",
    "import xgboost as xgb\n",
    "import time\n",
    "from sklearn.tree import DecisionTreeClassifier"
   ]
  },
  {
   "cell_type": "markdown",
   "id": "d5523320-b44e-4fcf-b7c4-bed13c3583bb",
   "metadata": {},
   "source": [
    "## SEEDFIX 및 지표함수 정의"
   ]
  },
  {
   "cell_type": "code",
   "execution_count": 2,
   "id": "ea1decb8-7564-44ea-99bf-42f743e43547",
   "metadata": {},
   "outputs": [],
   "source": [
    "def print_results(y_true, y_pred):\n",
    "    accuracy = accuracy_score(y_true, y_pred)\n",
    "    recall = recall_score(y_true, y_pred)\n",
    "    precision = precision_score(y_true, y_pred)\n",
    "    f1 = f1_score(y_true, y_pred)\n",
    "    matrix = confusion_matrix(y_true, y_pred)\n",
    "\n",
    "    print(\"Accuracy: {:.2f}\".format(accuracy))\n",
    "    print(\"Recall: {:.2f}\".format(recall))\n",
    "    print(\"Precision: {:.2f}\".format(precision))\n",
    "    print(\"F1-Score: {:.2f}\".format(f1))\n",
    "    print(\"Confusion Matrix:\\n\", matrix)\n",
    "    print(\"\\n\")"
   ]
  },
  {
   "cell_type": "code",
   "execution_count": 3,
   "id": "bd5252b5-ab31-49df-8921-123543580001",
   "metadata": {},
   "outputs": [],
   "source": [
    "df = pd.read_csv('./drop_data.csv')"
   ]
  },
  {
   "cell_type": "code",
   "execution_count": 4,
   "id": "763b5cd8-d170-42a2-95f4-62e02dbd9b50",
   "metadata": {},
   "outputs": [],
   "source": [
    "seed = 21"
   ]
  },
  {
   "cell_type": "code",
   "execution_count": 5,
   "id": "7a8743cd-0376-446e-8c50-1270b0dfc9c7",
   "metadata": {},
   "outputs": [],
   "source": [
    "x = df.drop(['hospital_expire_flag'], axis=1)\n",
    "y = df['hospital_expire_flag']"
   ]
  },
  {
   "cell_type": "markdown",
   "id": "51b7dc21-7a9b-4159-b5af-ea05f275eef8",
   "metadata": {},
   "source": [
    "## XGBoost 추론시간 측정 및 총 노드 수 계산"
   ]
  },
  {
   "cell_type": "code",
   "execution_count": 6,
   "id": "61da48b8-aede-4b4c-b146-e96a93d02672",
   "metadata": {},
   "outputs": [
    {
     "name": "stdout",
     "output_type": "stream",
     "text": [
      "Testing Time: 0.44086289405822754 seconds\n",
      "Accuracy: 0.99\n",
      "Recall: 0.79\n",
      "Precision: 0.96\n",
      "F1-Score: 0.87\n",
      "Confusion Matrix:\n",
      " [[319898    373]\n",
      " [  2763  10207]]\n",
      "\n",
      "\n"
     ]
    }
   ],
   "source": [
    "x_train, x_test, y_train, y_test = train_test_split(x, y, test_size=0.3, random_state=seed)\n",
    "\n",
    "# no oversampling\n",
    "xgb_clf = xgb.XGBClassifier(random_state=seed)\n",
    "\n",
    "# 모델 학습\n",
    "xgb_clf.fit(x_train, y_train)\n",
    "\n",
    "# 테스트 시작 시간 기록\n",
    "start_time = time.time()\n",
    "\n",
    "# 테스트 데이터에 대한 예측 수행\n",
    "y_pred = xgb_clf.predict(x_test)\n",
    "\n",
    "# 테스트 종료 시간 기록\n",
    "end_time = time.time()\n",
    "\n",
    "# 테스트 시간 계산\n",
    "testing_time = end_time - start_time\n",
    "print(f\"Testing Time: {testing_time} seconds\")\n",
    "\n",
    "# 결과 출력\n",
    "print_results(y_test, y_pred)\n"
   ]
  },
  {
   "cell_type": "code",
   "execution_count": 7,
   "id": "2ef4688f-de51-4712-8281-7289a40b7f8e",
   "metadata": {},
   "outputs": [
    {
     "name": "stdout",
     "output_type": "stream",
     "text": [
      "Total number of nodes in XGBoost model: 9766\n"
     ]
    }
   ],
   "source": [
    "total_nodes = sum(len(tree.split('\\n')) for tree in xgb_clf.get_booster().get_dump())\n",
    "print(f\"Total number of nodes in XGBoost model: {total_nodes}\")"
   ]
  },
  {
   "cell_type": "markdown",
   "id": "b9343626-eb0a-4c61-a113-ede3a3d0adac",
   "metadata": {},
   "source": [
    "## DT 추론시간 측정 및 총 노드 수 계산"
   ]
  },
  {
   "cell_type": "code",
   "execution_count": 8,
   "id": "04733667-6871-4669-8781-49d2eb91c8e5",
   "metadata": {},
   "outputs": [
    {
     "name": "stdout",
     "output_type": "stream",
     "text": [
      "Total number of nodes in Decision Tree model: 3351\n"
     ]
    }
   ],
   "source": [
    "# 데이터 분할 (x, y는 실제 데이터셋으로 대체)\n",
    "x_train, x_test, y_train, y_test = train_test_split(x, y, test_size=0.3, random_state=seed)\n",
    "\n",
    "# Decision Tree 모델 초기화 및 학습\n",
    "dt_clf = DecisionTreeClassifier(random_state=seed, max_depth=20)\n",
    "dt_clf.fit(x_train, y_train)\n",
    "\n",
    "# 테스트 데이터에 대한 예측 수행 및 시간 측정\n",
    "start_time = time.time()\n",
    "y_pred = dt_clf.predict(x_test)\n",
    "end_time = time.time()\n",
    "\n",
    "# 총 노드 수 계산 및 출력\n",
    "total_nodes = dt_clf.tree_.node_count\n",
    "print(f\"Total number of nodes in Decision Tree model: {total_nodes}\")\n"
   ]
  },
  {
   "cell_type": "code",
   "execution_count": 9,
   "id": "0e683d4c-8edd-430d-a5f6-f0fca1be4219",
   "metadata": {},
   "outputs": [],
   "source": [
    "y_pred = xgb_clf.predict(x_test)\n",
    "y_pred_proba = xgb_clf.predict_proba(x_test)[:, 1]  # 클래스 1에 대한 확률"
   ]
  },
  {
   "cell_type": "markdown",
   "id": "f85b24cf-2686-4e9f-b10e-8b1b0796a004",
   "metadata": {},
   "source": [
    "## 시나리오 분석"
   ]
  },
  {
   "cell_type": "markdown",
   "id": "9c798e8b-0377-4342-9f57-cf98e57cc98b",
   "metadata": {},
   "source": [
    "TOP 5 Features"
   ]
  },
  {
   "cell_type": "code",
   "execution_count": 10,
   "id": "e7dd737f-387d-4eb4-a325-e49050e371ec",
   "metadata": {},
   "outputs": [],
   "source": [
    "discrete_vars = [\"drg_severity\"]\n",
    "continuous_vars = [\"Lactate\", \"Bicarbonate\", \"pCO2\",\"White Blood Cells\"]"
   ]
  },
  {
   "cell_type": "code",
   "execution_count": 11,
   "id": "059e92da-2467-45d6-a6f2-9c20f681ceae",
   "metadata": {
    "scrolled": true
   },
   "outputs": [
    {
     "name": "stdout",
     "output_type": "stream",
     "text": [
      "Index with the highest probability under 0.5: 67893\n",
      "Highest probability under 0.5: 0.4998077154159546\n",
      "Data with the highest probability under 0.5:\n",
      "hadm_id             22951112.0\n",
      "anchor_age                74.0\n",
      "drg_severity               4.0\n",
      "% Hemoglobin A1c           0.0\n",
      "24 hr Creatinine           0.0\n",
      "                       ...    \n",
      "admission_los_4            0.0\n",
      "edr_los_1                  1.0\n",
      "edr_los_2                  0.0\n",
      "edr_los_3                  0.0\n",
      "edr_los_4                  0.0\n",
      "Name: 892005, Length: 340, dtype: float64\n",
      "\n",
      "Selected variables from the data with the highest probability under 0.5:\n",
      "drg_severity          4.000000\n",
      "Lactate               1.020000\n",
      "Bicarbonate          26.733333\n",
      "pCO2                 40.409091\n",
      "White Blood Cells    15.122222\n",
      "Name: 892005, dtype: float64\n"
     ]
    }
   ],
   "source": [
    "# 확률이 0.5를 넘지 않는 가장 큰 확률을 가진 데이터의 인덱스 및 데이터 찾기\n",
    "max_proba_under_50_index, max_proba_under_50_value = max(((i, p) for i, p in enumerate(y_pred_proba) if p < 0.5), key=lambda x: x[1])\n",
    "max_proba_under_50_data = x_test.iloc[max_proba_under_50_index]\n",
    "\n",
    "# 결과 출력\n",
    "print(f\"Index with the highest probability under 0.5: {max_proba_under_50_index}\")\n",
    "print(f\"Highest probability under 0.5: {max_proba_under_50_value}\")\n",
    "print(\"Data with the highest probability under 0.5:\")\n",
    "print(max_proba_under_50_data)\n",
    "\n",
    "# discrete_vars와 continuous_vars에 해당하는 변수들의 값을 출력\n",
    "selected_vars = discrete_vars + continuous_vars\n",
    "selected_data = max_proba_under_50_data[selected_vars]\n",
    "print(\"\\nSelected variables from the data with the highest probability under 0.5:\")\n",
    "print(selected_data)"
   ]
  },
  {
   "cell_type": "markdown",
   "id": "ed990f5c-8e55-4bc9-8f40-6044dad4f0f9",
   "metadata": {},
   "source": [
    "## "
   ]
  },
  {
   "cell_type": "markdown",
   "id": "f5048201-80ca-445c-944a-bc9314c80f80",
   "metadata": {},
   "source": [
    "연속형 변수는 Train dataset의 최소 최대를 이용, 이산형 변수는 모든 값의 경우의 수를 조합하여 시나리오 데이터 생성"
   ]
  },
  {
   "cell_type": "code",
   "execution_count": 20,
   "id": "532be335-768a-46e2-b126-b712e8130a46",
   "metadata": {},
   "outputs": [],
   "source": [
    "import numpy as np\n",
    "import pandas as pd\n",
    "import itertools\n",
    "\n",
    "# 인덱스(특정 환자) 선택\n",
    "i = 67893\n",
    "data_point = x_test.iloc[i]\n",
    "\n",
    "# 이산형 변수의 모든 가능한 조합 생성\n",
    "discrete_combinations = list(itertools.product(*[x_train[var].unique() for var in discrete_vars]))\n",
    "\n",
    "# 연속형 변수에 대한 새로운 값 생성 \n",
    "continuous_values = {}\n",
    "for var in continuous_vars:\n",
    "    qmin = x_train[var].quantile(0.1)\n",
    "    qmax = x_train[var].quantile(0.9)\n",
    "    continuous_values[var] = np.random.uniform(qmin, qmax, 5)\n",
    "\n",
    "new_dataset = []\n",
    "\n",
    "for combo in discrete_combinations:\n",
    "    for values in itertools.product(*continuous_values.values()):\n",
    "        new_point = data_point.copy()\n",
    "        for var_index, var_name in enumerate(discrete_vars):\n",
    "            new_point[var_name] = combo[var_index]\n",
    "        for var_index, var_name in enumerate(continuous_vars):\n",
    "            new_point[var_name] = values[var_index]\n",
    "        new_dataset.append(new_point)\n",
    "\n",
    "scenario_df = pd.DataFrame(new_dataset)\n"
   ]
  },
  {
   "cell_type": "code",
   "execution_count": null,
   "id": "f8a3bafc-1145-484c-8956-3ce4c088b66a",
   "metadata": {},
   "outputs": [],
   "source": []
  },
  {
   "cell_type": "code",
   "execution_count": 21,
   "id": "390d2387-b05c-4e6b-a560-2b4855d2b9a9",
   "metadata": {},
   "outputs": [
    {
     "name": "stdout",
     "output_type": "stream",
     "text": [
      "[[0.26470363 0.73529637]\n",
      " [0.22192818 0.7780718 ]\n",
      " [0.19990951 0.8000905 ]\n",
      " ...\n",
      " [0.91410303 0.08589697]\n",
      " [0.9589868  0.0410132 ]\n",
      " [0.9419863  0.05801365]]\n"
     ]
    }
   ],
   "source": [
    "# scenario_df에 대한 예측 확률 뽑기\n",
    "y_pred_proba = xgb_clf.predict_proba(scenario_df)\n",
    "\n",
    "# 예측 확률 출력\n",
    "print(y_pred_proba)"
   ]
  },
  {
   "cell_type": "code",
   "execution_count": 22,
   "id": "2f4791b3-86fb-4bd7-8288-bb597f041298",
   "metadata": {},
   "outputs": [],
   "source": [
    "proba_df = pd.DataFrame(y_pred_proba, columns=['Prob_Class_0', 'Prob_Class_1'])\n",
    "# 인덱스 리셋\n",
    "scenario_df = scenario_df.reset_index(drop=True)\n",
    "proba_df = proba_df.reset_index(drop=True)\n",
    "\n",
    "# 병합\n",
    "merged_df = pd.concat([scenario_df, proba_df], axis=1)\n",
    "\n",
    "import pandas as pd\n",
    "\n",
    "# 확률 데이터를 DataFrame으로 변환\n",
    "# 클래스별 확률을 나타내는 컬럼 이름 지정\n",
    "proba_df = pd.DataFrame(y_pred_proba, columns=['Prob_Class_0', 'Prob_Class_1'])\n",
    "\n",
    "# 원래의 scenario_df와 확률 데이터를 병합\n",
    "merged_df = pd.concat([scenario_df, proba_df], axis=1)\n"
   ]
  },
  {
   "cell_type": "code",
   "execution_count": 23,
   "id": "22ef1f97-e840-49ef-ad57-303b637ffcc0",
   "metadata": {},
   "outputs": [
    {
     "name": "stdout",
     "output_type": "stream",
     "text": [
      "Highest Probability Row Selected Variables:\n",
      "drg_severity          4.000000\n",
      "Lactate               1.786472\n",
      "Bicarbonate          19.460826\n",
      "pCO2                 42.038008\n",
      "White Blood Cells    13.594768\n",
      "Name: 147, dtype: float64\n",
      "\n",
      "Lowest Probability Row Selected Variables:\n",
      "drg_severity          1.000000\n",
      "Lactate               0.559693\n",
      "Bicarbonate          29.027624\n",
      "pCO2                 20.516497\n",
      "White Blood Cells     5.329167\n",
      "Name: 1903, dtype: float64\n"
     ]
    }
   ],
   "source": [
    "# Prob_Class_1에 따라 내림차순 정렬\n",
    "merged_df_sorted = merged_df.sort_values(by='Prob_Class_1', ascending=False)\n",
    "\n",
    "# 가장 높은 확률과 낮은 확률을 가진 행 추출\n",
    "highest_proba_row = merged_df_sorted.iloc[0]\n",
    "lowest_proba_row = merged_df_sorted.iloc[-1]\n",
    "\n",
    "# discrete_vars와 continuous_vars 정의\n",
    "discrete_vars = [\"drg_severity\"]\n",
    "continuous_vars = [\"Lactate\", \"Bicarbonate\", \"pCO2\", \"White Blood Cells\"]\n",
    "\n",
    "# 가장 높은 확률과 낮은 확률을 가진 데이터에 대한 선택된 변수들의 값 출력\n",
    "print(\"Highest Probability Row Selected Variables:\")\n",
    "print(highest_proba_row[discrete_vars + continuous_vars])\n",
    "\n",
    "print(\"\\nLowest Probability Row Selected Variables:\")\n",
    "print(lowest_proba_row[discrete_vars + continuous_vars])\n",
    "\n"
   ]
  },
  {
   "cell_type": "markdown",
   "id": "a9f1c2c2-3b9d-40e6-8a98-d08c16a3a355",
   "metadata": {},
   "source": [
    "사망확률이 가장 높은 시나리오"
   ]
  },
  {
   "cell_type": "code",
   "execution_count": 24,
   "id": "331d66a0-bd9a-4e2f-bf3c-12f2ff175575",
   "metadata": {
    "scrolled": true
   },
   "outputs": [
    {
     "data": {
      "text/plain": [
       "hadm_id             2.295111e+07\n",
       "anchor_age          7.400000e+01\n",
       "drg_severity        4.000000e+00\n",
       "% Hemoglobin A1c    0.000000e+00\n",
       "24 hr Creatinine    0.000000e+00\n",
       "                        ...     \n",
       "edr_los_2           0.000000e+00\n",
       "edr_los_3           0.000000e+00\n",
       "edr_los_4           0.000000e+00\n",
       "Prob_Class_0        6.976664e-02\n",
       "Prob_Class_1        9.302334e-01\n",
       "Name: 147, Length: 342, dtype: float64"
      ]
     },
     "execution_count": 24,
     "metadata": {},
     "output_type": "execute_result"
    }
   ],
   "source": [
    "highest_proba_row"
   ]
  },
  {
   "cell_type": "markdown",
   "id": "4638c984-2527-4b04-bbc6-994c768f53f4",
   "metadata": {},
   "source": [
    "사망확률이 가장 높은 시나리오"
   ]
  },
  {
   "cell_type": "code",
   "execution_count": 19,
   "id": "925a0035-b149-4114-bea9-9e4b5d54933e",
   "metadata": {},
   "outputs": [
    {
     "data": {
      "text/plain": [
       "hadm_id             2.295111e+07\n",
       "anchor_age          7.400000e+01\n",
       "drg_severity        1.000000e+00\n",
       "% Hemoglobin A1c    0.000000e+00\n",
       "24 hr Creatinine    0.000000e+00\n",
       "                        ...     \n",
       "edr_los_2           0.000000e+00\n",
       "edr_los_3           0.000000e+00\n",
       "edr_los_4           0.000000e+00\n",
       "Prob_Class_0        9.570877e-01\n",
       "Prob_Class_1        4.291230e-02\n",
       "Name: 2012, Length: 342, dtype: float64"
      ]
     },
     "execution_count": 19,
     "metadata": {},
     "output_type": "execute_result"
    }
   ],
   "source": [
    "lowest_proba_row"
   ]
  },
  {
   "cell_type": "code",
   "execution_count": null,
   "id": "a342f0cd-32f2-497a-9a0a-dee35bb66702",
   "metadata": {},
   "outputs": [],
   "source": []
  },
  {
   "cell_type": "code",
   "execution_count": null,
   "id": "17dcc04a-892a-4882-a299-d78325823156",
   "metadata": {},
   "outputs": [],
   "source": []
  },
  {
   "cell_type": "code",
   "execution_count": null,
   "id": "ae5a5dae-c31e-4459-895a-f46876b51cc4",
   "metadata": {},
   "outputs": [],
   "source": []
  }
 ],
 "metadata": {
  "kernelspec": {
   "display_name": "Python 3 (ipykernel)",
   "language": "python",
   "name": "python3"
  },
  "language_info": {
   "codemirror_mode": {
    "name": "ipython",
    "version": 3
   },
   "file_extension": ".py",
   "mimetype": "text/x-python",
   "name": "python",
   "nbconvert_exporter": "python",
   "pygments_lexer": "ipython3",
   "version": "3.9.17"
  }
 },
 "nbformat": 4,
 "nbformat_minor": 5
}
